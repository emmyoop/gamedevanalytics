{
 "cells": [
  {
   "cell_type": "code",
   "execution_count": 117,
   "metadata": {},
   "outputs": [],
   "source": [
    "import time\n",
    "import numpy as np\n",
    "import pandas as pd\n",
    "import requests\n",
    "\n",
    "import csv\n",
    "import os\n",
    "\n",
    "import json\n",
    "from pandas.io.json import json_normalize"
   ]
  },
  {
   "cell_type": "code",
   "execution_count": 40,
   "metadata": {},
   "outputs": [],
   "source": [
    "import _local_settings"
   ]
  },
  {
   "cell_type": "code",
   "execution_count": 41,
   "metadata": {},
   "outputs": [],
   "source": [
    "# Set ipython's max row display\n",
    "pd.set_option('display.max_row', 1000)\n",
    "\n",
    "# Set iPython's max column width to 50\n",
    "pd.set_option('display.max_columns', 50)\n"
   ]
  },
  {
   "cell_type": "code",
   "execution_count": 207,
   "metadata": {},
   "outputs": [],
   "source": [
    "\n",
    "\n",
    "app_file = 'response/applist.csv'\n",
    "processed_app_file ='response/processed_applist.csv'\n",
    "\n",
    "success_file = 'response/success.json'\n",
    "failure_file = 'response/failure.json'"
   ]
  },
  {
   "cell_type": "code",
   "execution_count": 208,
   "metadata": {},
   "outputs": [],
   "source": [
    "def get_request(url, parameters=None):\n",
    "    \"\"\"Return json-formatted response of a get request using optional parameters.\n",
    "\n",
    "    Parameters\n",
    "    ----------\n",
    "    url : string\n",
    "    parameters : {'parameter': 'value'}\n",
    "        parameters to pass as part of get request\n",
    "\n",
    "    Returns\n",
    "    -------\n",
    "    json_data\n",
    "        json-formatted response (dict-like)\n",
    "    \"\"\"        \n",
    "    try:\n",
    "        response = requests.get(url=url, params=parameters)\n",
    "    except requests.exceptions.Timeout:\n",
    "        for i in range(5, 0, -1):\n",
    "            print('\\rTimeout. Waiting... ({})'.format(i), end='')\n",
    "            time.sleep(1)\n",
    "        print('\\rRetrying.' + ' ' * 10)\n",
    "        return get_request(url, parameters)\n",
    "    except requests.exceptions.TooManyRedirects:\n",
    "        print('TooManyRedirects')\n",
    "    except requests.exceptions.RequestException as e:\n",
    "    # catastrophic error. bail.\n",
    "        raise SystemExit(e)\n",
    "\n",
    "    if response:\n",
    "        return response.json()\n",
    "    else:\n",
    "        # response is none usually means too many requests. Wait and try again\n",
    "        print('No response, waiting 10 seconds...')\n",
    "        time.sleep(10)\n",
    "        print('Retrying.')\n",
    "        return get_request(url, parameters)\n",
    "\n",
    "def write_to_file(d):\n",
    "    for app in d['applist']['apps']:\n",
    "        appid = app['appid']\n",
    "        with open(app_file, 'a') as applist:\n",
    "            json.dump(appid, applist)\n",
    "            applist.write(\",\")\n",
    "    \n",
    "    with open(app_file, 'a') as applist:\n",
    "        applist.seek(0, os.SEEK_END) # Move to last \n",
    "        applist.seek(applist.tell() - 1, os.SEEK_SET) # back One character\n",
    "        applist.truncate() # Delete the last comma \",\"\n",
    "        "
   ]
  },
  {
   "cell_type": "code",
   "execution_count": 110,
   "metadata": {},
   "outputs": [],
   "source": [
    "\n"
   ]
  },
  {
   "cell_type": "code",
   "execution_count": 224,
   "metadata": {},
   "outputs": [],
   "source": [
    "def get_unprocessed_applist():\n",
    "    '''\n",
    "    Gets the list of all steam app ids, then gets a list of app ids that have \n",
    "    already been processed and produces a series of just the unprocessed app ids\n",
    "    '''\n",
    "    all_apps_file = pd.read_csv(app_file, index_col=False, header=0)\n",
    "    all_apps_series = all_apps_file.transpose().reset_index()\n",
    "    \n",
    "    processed_apps_exist = False\n",
    "    \n",
    "    try:\n",
    "        processed_apps = pd.read_csv(processed_app_file, index_col=False, header=0)\n",
    "        processed_apps_series = processed_apps.transpose().reset_index()\n",
    "        processed_apps_exist = True\n",
    "    except:\n",
    "      print(processed_app_file, \" is empty\")\n",
    "    \n",
    "    if processed_apps_exist:\n",
    "        return pd.concat([all_apps_series,processed_apps_series]).drop_duplicates(keep=False)\n",
    "    else:\n",
    "        return all_apps_series\n",
    "\n",
    "\n"
   ]
  },
  {
   "cell_type": "code",
   "execution_count": 335,
   "metadata": {},
   "outputs": [],
   "source": [
    "def get_app_info(apps, limit=200):\n",
    "# has logic to deal with 200 requests/5 min limits\n",
    "    with open(success_file, 'a') as successes:\n",
    "        successes.write('{\"responses\":[')\n",
    "    with open(failure_file, 'a') as failures:\n",
    "        failures.write('{\"responses\":[')\n",
    "        \n",
    "    count = 0\n",
    "    \n",
    "    for app in apps:\n",
    "        appid = app\n",
    "        print(appid)\n",
    "        count+= 1\n",
    "        app_info = get_request(\"http://store.steampowered.com/api/appdetails?appids={APP_ID}\".format(APP_ID=appid))\n",
    "        print(type(app_info))\n",
    "        df = pd.DataFrame.from_dict(app_info)\n",
    "        print(type(df))\n",
    "        print(df)\n",
    "        \n",
    "        \n",
    "        time.sleep(1.6)  # should keep us below request limit\n",
    "\n",
    "        if app_info[str(appid)]['success']:\n",
    "            \n",
    "#             df.to_json(success_file, orient='index)\n",
    "            with open(success_file, 'a') as successes:\n",
    "                json.dump(app_info, successes)  # write api resp to .JSON file\n",
    "#               json.dump(app_info[str(appid)]['data'], successes)  # write api resp to .JSON file\n",
    "                successes.write(\",\") # add comma for JSON array element\n",
    "        else:            \n",
    "#             df.to_json(failure_file, orient='index')\n",
    "            with open(failure_file, 'a') as failures:\n",
    "\n",
    "                json.dump(app_info, failures)  # write api resp to .JSON file\n",
    "                failures.write(\",\") # add comma for JSON array element\n",
    "        \n",
    "        with open(processed_app_file, 'a') as processed_applist:\n",
    "            json.dump(appid, processed_applist) \n",
    "            processed_applist.write(\",\")\n",
    "        if count >= limit:\n",
    "            print(\"reached \" + str(limit) + \" requests, stopping\")\n",
    "            break\n",
    "    \n",
    "    with open(success_file, 'a') as successes:\n",
    "        successes.seek(0, os.SEEK_END) # Move to last \n",
    "        successes.seek(successes.tell() - 1, os.SEEK_SET) # back One character\n",
    "        successes.truncate() # Delete the last comma \",\"\n",
    "        successes.write(']}')\n",
    "    with open(failure_file, 'a') as failures:\n",
    "        failures.seek(0, os.SEEK_END) # Move to last \n",
    "        failures.seek(failures.tell() - 1, os.SEEK_SET) # back One character\n",
    "        failures.truncate() # Delete the last comma \",\"\n",
    "        failures.write(']}')\n",
    "    \n",
    "    with open(processed_app_file, 'a') as processed_applist:\n",
    "        processed_applist.seek(0, os.SEEK_END) # Move to last \n",
    "        processed_applist.seek(processed_applist.tell() - 1, os.SEEK_SET) # back One character\n",
    "        processed_applist.truncate() # Delete the last comma \",\n",
    "\n",
    "    print(\"I'\\'m done writing your successes to file:\" + success_file)\n",
    "    print(\"I'\\'m done writing your failures to file:\" + failure_file)\n",
    "\n",
    "\n"
   ]
  },
  {
   "cell_type": "code",
   "execution_count": 212,
   "metadata": {},
   "outputs": [],
   "source": [
    "ALL_APPS_URL = \"http://api.steampowered.com/ISteamApps/GetAppList/v0002/?key={STEAMKEY}&format=json\".format(STEAMKEY=_local_settings.STEAMKEY)\n",
    "\n",
    "all_apps = get_request(ALL_APPS_URL)\n",
    "write_to_file(all_apps)"
   ]
  },
  {
   "cell_type": "code",
   "execution_count": 277,
   "metadata": {},
   "outputs": [
    {
     "name": "stdout",
     "output_type": "stream",
     "text": [
      "response/processed_applist.csv  is empty\n",
      "     index\n",
      "0   216938\n",
      "1   660010\n",
      "2   660130\n",
      "3  1095230\n",
      "4  1095260\n"
     ]
    }
   ],
   "source": [
    "unprocessed_appids = get_unprocessed_applist()\n",
    "print(unprocessed_appids.head())\n",
    "\n"
   ]
  },
  {
   "cell_type": "code",
   "execution_count": 234,
   "metadata": {},
   "outputs": [
    {
     "name": "stdout",
     "output_type": "stream",
     "text": [
      "99933\n"
     ]
    }
   ],
   "source": [
    "count=0\n",
    "d = all_apps\n",
    "for app in d['applist']['apps']:\n",
    "    count+=1\n",
    "print(count)"
   ]
  },
  {
   "cell_type": "code",
   "execution_count": 336,
   "metadata": {},
   "outputs": [
    {
     "name": "stdout",
     "output_type": "stream",
     "text": [
      "216938\n",
      "<class 'dict'>\n",
      "<class 'pandas.core.frame.DataFrame'>\n",
      "         216938\n",
      "success   False\n",
      "660010\n",
      "<class 'dict'>\n",
      "<class 'pandas.core.frame.DataFrame'>\n",
      "         660010\n",
      "success   False\n",
      "660130\n",
      "<class 'dict'>\n",
      "<class 'pandas.core.frame.DataFrame'>\n",
      "         660130\n",
      "success   False\n",
      "1095230\n",
      "<class 'dict'>\n",
      "<class 'pandas.core.frame.DataFrame'>\n",
      "                                                   1095230\n",
      "data     {'type': 'game', 'name': 'Fish man avoiding fi...\n",
      "success                                               True\n",
      "1095260\n",
      "<class 'dict'>\n",
      "<class 'pandas.core.frame.DataFrame'>\n",
      "                                                   1095260\n",
      "data     {'type': 'game', 'name': 'Airtight City 密闭之城',...\n",
      "success                                               True\n",
      "reached 5 requests, stopping\n",
      "I''m done writing your successes to file:response/success.json\n",
      "I''m done writing your failures to file:response/failure.json\n"
     ]
    }
   ],
   "source": [
    "get_app_info(unprocessed_appids['index'], limit=5)\n",
    "# 216938\n",
    "# 660010\n",
    "# 660130\n",
    "# 1095230\n",
    "# 1095260\n",
    "# 1095270"
   ]
  },
  {
   "cell_type": "markdown",
   "metadata": {},
   "source": [
    "## test reading output files"
   ]
  },
  {
   "cell_type": "code",
   "execution_count": 372,
   "metadata": {},
   "outputs": [
    {
     "data": {
      "text/html": [
       "<div>\n",
       "<style scoped>\n",
       "    .dataframe tbody tr th:only-of-type {\n",
       "        vertical-align: middle;\n",
       "    }\n",
       "\n",
       "    .dataframe tbody tr th {\n",
       "        vertical-align: top;\n",
       "    }\n",
       "\n",
       "    .dataframe thead th {\n",
       "        text-align: right;\n",
       "    }\n",
       "</style>\n",
       "<table border=\"1\" class=\"dataframe\">\n",
       "  <thead>\n",
       "    <tr style=\"text-align: right;\">\n",
       "      <th></th>\n",
       "      <th>responses</th>\n",
       "    </tr>\n",
       "  </thead>\n",
       "  <tbody>\n",
       "    <tr>\n",
       "      <th>0</th>\n",
       "      <td>{'1095230': {'success': True, 'data': {'type':...</td>\n",
       "    </tr>\n",
       "    <tr>\n",
       "      <th>1</th>\n",
       "      <td>{'1095260': {'success': True, 'data': {'type':...</td>\n",
       "    </tr>\n",
       "  </tbody>\n",
       "</table>\n",
       "</div>"
      ],
      "text/plain": [
       "                                           responses\n",
       "0  {'1095230': {'success': True, 'data': {'type':...\n",
       "1  {'1095260': {'success': True, 'data': {'type':..."
      ]
     },
     "execution_count": 372,
     "metadata": {},
     "output_type": "execute_result"
    }
   ],
   "source": [
    "s = pd.read_json(success_file, orient='records')\n",
    "s\n"
   ]
  },
  {
   "cell_type": "code",
   "execution_count": 444,
   "metadata": {},
   "outputs": [
    {
     "name": "stdout",
     "output_type": "stream",
     "text": [
      "                        responses\n",
      "0  {'216938': {'success': False}}\n",
      "1  {'660010': {'success': False}}\n",
      "2  {'660130': {'success': False}}\n",
      "{'responses': {0: {'216938': {'success': False}}, 1: {'660010': {'success': False}}, 2: {'660130': {'success': False}}}}\n"
     ]
    },
    {
     "data": {
      "text/html": [
       "<div>\n",
       "<style scoped>\n",
       "    .dataframe tbody tr th:only-of-type {\n",
       "        vertical-align: middle;\n",
       "    }\n",
       "\n",
       "    .dataframe tbody tr th {\n",
       "        vertical-align: top;\n",
       "    }\n",
       "\n",
       "    .dataframe thead th {\n",
       "        text-align: right;\n",
       "    }\n",
       "</style>\n",
       "<table border=\"1\" class=\"dataframe\">\n",
       "  <thead>\n",
       "    <tr style=\"text-align: right;\">\n",
       "      <th></th>\n",
       "      <th>index</th>\n",
       "      <th>216938</th>\n",
       "      <th>660010</th>\n",
       "      <th>660130</th>\n",
       "    </tr>\n",
       "  </thead>\n",
       "  <tbody>\n",
       "    <tr>\n",
       "      <th>0</th>\n",
       "      <td>0</td>\n",
       "      <td>{'success': False}</td>\n",
       "      <td>NaN</td>\n",
       "      <td>NaN</td>\n",
       "    </tr>\n",
       "    <tr>\n",
       "      <th>1</th>\n",
       "      <td>1</td>\n",
       "      <td>NaN</td>\n",
       "      <td>{'success': False}</td>\n",
       "      <td>NaN</td>\n",
       "    </tr>\n",
       "    <tr>\n",
       "      <th>2</th>\n",
       "      <td>2</td>\n",
       "      <td>NaN</td>\n",
       "      <td>NaN</td>\n",
       "      <td>{'success': False}</td>\n",
       "    </tr>\n",
       "  </tbody>\n",
       "</table>\n",
       "</div>"
      ],
      "text/plain": [
       "   index              216938              660010              660130\n",
       "0      0  {'success': False}                 NaN                 NaN\n",
       "1      1                 NaN  {'success': False}                 NaN\n",
       "2      2                 NaN                 NaN  {'success': False}"
      ]
     },
     "execution_count": 444,
     "metadata": {},
     "output_type": "execute_result"
    }
   ],
   "source": [
    "df = pd.read_json(failure_file, orient='index')\n",
    "print(df.T)\n",
    "f = df.T.to_dict()\n",
    "print(f)\n",
    "def convert_to_df(d):\n",
    "    df = pd.DataFrame.from_dict(d, orient='columns')\n",
    "    df.reset_index(level=0, inplace=True)\n",
    "    return df\n",
    "x = convert_to_df(f)\n",
    "\n",
    "z = {'216938': {'success': False}},{'660010': {'success': False}},{'660130': {'success': False}}\n",
    "abc = convert_to_df(z)\n",
    "abc\n",
    "\n",
    "#todo: need to convert each thing from dict to just the k/v pair"
   ]
  },
  {
   "cell_type": "code",
   "execution_count": 395,
   "metadata": {},
   "outputs": [
    {
     "data": {
      "text/html": [
       "<div>\n",
       "<style scoped>\n",
       "    .dataframe tbody tr th:only-of-type {\n",
       "        vertical-align: middle;\n",
       "    }\n",
       "\n",
       "    .dataframe tbody tr th {\n",
       "        vertical-align: top;\n",
       "    }\n",
       "\n",
       "    .dataframe thead th {\n",
       "        text-align: right;\n",
       "    }\n",
       "</style>\n",
       "<table border=\"1\" class=\"dataframe\">\n",
       "  <thead>\n",
       "    <tr style=\"text-align: right;\">\n",
       "      <th></th>\n",
       "      <th>index</th>\n",
       "      <th>0</th>\n",
       "      <th>1</th>\n",
       "    </tr>\n",
       "  </thead>\n",
       "  <tbody>\n",
       "    <tr>\n",
       "      <th>0</th>\n",
       "      <td>1095230</td>\n",
       "      <td>{'success': True, 'data': {'type': 'game', 'na...</td>\n",
       "      <td>NaN</td>\n",
       "    </tr>\n",
       "    <tr>\n",
       "      <th>1</th>\n",
       "      <td>1095260</td>\n",
       "      <td>NaN</td>\n",
       "      <td>{'success': True, 'data': {'type': 'game', 'na...</td>\n",
       "    </tr>\n",
       "  </tbody>\n",
       "</table>\n",
       "</div>"
      ],
      "text/plain": [
       "     index                                                  0  \\\n",
       "0  1095230  {'success': True, 'data': {'type': 'game', 'na...   \n",
       "1  1095260                                                NaN   \n",
       "\n",
       "                                                   1  \n",
       "0                                                NaN  \n",
       "1  {'success': True, 'data': {'type': 'game', 'na...  "
      ]
     },
     "execution_count": 395,
     "metadata": {},
     "output_type": "execute_result"
    }
   ],
   "source": [
    "steam_data = pd.read_json(success_file)\n",
    "steam_data\n",
    "\n",
    "f = pd.DataFrame([steam_data['responses']])\n",
    "f\n",
    "\n",
    "\n",
    "def convert_to_df(d):\n",
    "    df = pd.DataFrame.from_dict(d, orient='columns')\n",
    "    df.reset_index(level=0, inplace=True)\n",
    "    return df\n",
    "\n",
    "# steam_data['responses'].head()\n",
    "\n",
    "x = convert_to_df(steam_data['responses'].to_dict())\n",
    "x\n",
    "\n",
    "\n",
    "# from ast import literal_eval\n",
    "# def try_literal_eval(s):\n",
    "#     try:\n",
    "#         return literal_eval(s)\n",
    "#     except ValueError:\n",
    "#         return s\n",
    "\n",
    "# steam_data['responses'] = steam_data.responses.apply(try_literal_eval)\n",
    "# app_df = convert_to_df(steam_data)\n",
    "# appdf\n",
    "\n",
    "\n",
    "# result = steam_data['responses'].to_json(orient=\"index\")\n",
    "# parsed = json.loads(result)\n",
    "# test = json.dumps(parsed, indent=4)  \n",
    "# print(test)\n",
    "# norm = pd.json_normalize(test)\n",
    "\n"
   ]
  },
  {
   "cell_type": "code",
   "execution_count": null,
   "metadata": {},
   "outputs": [],
   "source": []
  }
 ],
 "metadata": {
  "kernelspec": {
   "display_name": "Python 3",
   "language": "python",
   "name": "python3"
  },
  "language_info": {
   "codemirror_mode": {
    "name": "ipython",
    "version": 3
   },
   "file_extension": ".py",
   "mimetype": "text/x-python",
   "name": "python",
   "nbconvert_exporter": "python",
   "pygments_lexer": "ipython3",
   "version": "3.7.7"
  }
 },
 "nbformat": 4,
 "nbformat_minor": 4
}
